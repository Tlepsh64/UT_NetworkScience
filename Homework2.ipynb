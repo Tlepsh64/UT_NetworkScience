{
  "nbformat": 4,
  "nbformat_minor": 0,
  "metadata": {
    "colab": {
      "name": "Pandis, Özen - NS HW2 Märkmiku Network_Science-Homework2.ipynb koopia",
      "provenance": [],
      "collapsed_sections": [],
      "toc_visible": true
    },
    "kernelspec": {
      "display_name": "Python 3",
      "language": "python",
      "name": "python3"
    },
    "language_info": {
      "codemirror_mode": {
        "name": "ipython",
        "version": 3
      },
      "file_extension": ".py",
      "mimetype": "text/x-python",
      "name": "python",
      "nbconvert_exporter": "python",
      "pygments_lexer": "ipython3",
      "version": "3.8.5"
    },
    "accelerator": "GPU",
    "widgets": {
      "application/vnd.jupyter.widget-state+json": {
        "113635351fe3454f8b044de0cb108d4d": {
          "model_module": "@jupyter-widgets/controls",
          "model_name": "HBoxModel",
          "state": {
            "_view_name": "HBoxView",
            "_dom_classes": [],
            "_model_name": "HBoxModel",
            "_view_module": "@jupyter-widgets/controls",
            "_model_module_version": "1.5.0",
            "_view_count": null,
            "_view_module_version": "1.5.0",
            "box_style": "",
            "layout": "IPY_MODEL_2f789b0e1e3240ebadecfca9f03a13df",
            "_model_module": "@jupyter-widgets/controls",
            "children": [
              "IPY_MODEL_2bcd57e8c71b44939d0d5f39098f2602",
              "IPY_MODEL_ca63a681254e4d3986dc06cd31d21052"
            ]
          }
        },
        "2f789b0e1e3240ebadecfca9f03a13df": {
          "model_module": "@jupyter-widgets/base",
          "model_name": "LayoutModel",
          "state": {
            "_view_name": "LayoutView",
            "grid_template_rows": null,
            "right": null,
            "justify_content": null,
            "_view_module": "@jupyter-widgets/base",
            "overflow": null,
            "_model_module_version": "1.2.0",
            "_view_count": null,
            "flex_flow": null,
            "width": null,
            "min_width": null,
            "border": null,
            "align_items": null,
            "bottom": null,
            "_model_module": "@jupyter-widgets/base",
            "top": null,
            "grid_column": null,
            "overflow_y": null,
            "overflow_x": null,
            "grid_auto_flow": null,
            "grid_area": null,
            "grid_template_columns": null,
            "flex": null,
            "_model_name": "LayoutModel",
            "justify_items": null,
            "grid_row": null,
            "max_height": null,
            "align_content": null,
            "visibility": null,
            "align_self": null,
            "height": null,
            "min_height": null,
            "padding": null,
            "grid_auto_rows": null,
            "grid_gap": null,
            "max_width": null,
            "order": null,
            "_view_module_version": "1.2.0",
            "grid_template_areas": null,
            "object_position": null,
            "object_fit": null,
            "grid_auto_columns": null,
            "margin": null,
            "display": null,
            "left": null
          }
        },
        "2bcd57e8c71b44939d0d5f39098f2602": {
          "model_module": "@jupyter-widgets/controls",
          "model_name": "FloatProgressModel",
          "state": {
            "_view_name": "ProgressView",
            "style": "IPY_MODEL_a0900c4d3e1746b2bb1f01a92a9d83c0",
            "_dom_classes": [],
            "description": "Computing transition probabilities: 100%",
            "_model_name": "FloatProgressModel",
            "bar_style": "success",
            "max": 255,
            "_view_module": "@jupyter-widgets/controls",
            "_model_module_version": "1.5.0",
            "value": 255,
            "_view_count": null,
            "_view_module_version": "1.5.0",
            "orientation": "horizontal",
            "min": 0,
            "description_tooltip": null,
            "_model_module": "@jupyter-widgets/controls",
            "layout": "IPY_MODEL_ed7b436293b842249350b6ce0ea2b552"
          }
        },
        "ca63a681254e4d3986dc06cd31d21052": {
          "model_module": "@jupyter-widgets/controls",
          "model_name": "HTMLModel",
          "state": {
            "_view_name": "HTMLView",
            "style": "IPY_MODEL_5381ca03714548cc912059d9a02cd907",
            "_dom_classes": [],
            "description": "",
            "_model_name": "HTMLModel",
            "placeholder": "​",
            "_view_module": "@jupyter-widgets/controls",
            "_model_module_version": "1.5.0",
            "value": " 255/255 [00:04&lt;00:00, 54.23it/s]",
            "_view_count": null,
            "_view_module_version": "1.5.0",
            "description_tooltip": null,
            "_model_module": "@jupyter-widgets/controls",
            "layout": "IPY_MODEL_c6862109f0b64b6da76d7f370f9646c9"
          }
        },
        "a0900c4d3e1746b2bb1f01a92a9d83c0": {
          "model_module": "@jupyter-widgets/controls",
          "model_name": "ProgressStyleModel",
          "state": {
            "_view_name": "StyleView",
            "_model_name": "ProgressStyleModel",
            "description_width": "initial",
            "_view_module": "@jupyter-widgets/base",
            "_model_module_version": "1.5.0",
            "_view_count": null,
            "_view_module_version": "1.2.0",
            "bar_color": null,
            "_model_module": "@jupyter-widgets/controls"
          }
        },
        "ed7b436293b842249350b6ce0ea2b552": {
          "model_module": "@jupyter-widgets/base",
          "model_name": "LayoutModel",
          "state": {
            "_view_name": "LayoutView",
            "grid_template_rows": null,
            "right": null,
            "justify_content": null,
            "_view_module": "@jupyter-widgets/base",
            "overflow": null,
            "_model_module_version": "1.2.0",
            "_view_count": null,
            "flex_flow": null,
            "width": null,
            "min_width": null,
            "border": null,
            "align_items": null,
            "bottom": null,
            "_model_module": "@jupyter-widgets/base",
            "top": null,
            "grid_column": null,
            "overflow_y": null,
            "overflow_x": null,
            "grid_auto_flow": null,
            "grid_area": null,
            "grid_template_columns": null,
            "flex": null,
            "_model_name": "LayoutModel",
            "justify_items": null,
            "grid_row": null,
            "max_height": null,
            "align_content": null,
            "visibility": null,
            "align_self": null,
            "height": null,
            "min_height": null,
            "padding": null,
            "grid_auto_rows": null,
            "grid_gap": null,
            "max_width": null,
            "order": null,
            "_view_module_version": "1.2.0",
            "grid_template_areas": null,
            "object_position": null,
            "object_fit": null,
            "grid_auto_columns": null,
            "margin": null,
            "display": null,
            "left": null
          }
        },
        "5381ca03714548cc912059d9a02cd907": {
          "model_module": "@jupyter-widgets/controls",
          "model_name": "DescriptionStyleModel",
          "state": {
            "_view_name": "StyleView",
            "_model_name": "DescriptionStyleModel",
            "description_width": "",
            "_view_module": "@jupyter-widgets/base",
            "_model_module_version": "1.5.0",
            "_view_count": null,
            "_view_module_version": "1.2.0",
            "_model_module": "@jupyter-widgets/controls"
          }
        },
        "c6862109f0b64b6da76d7f370f9646c9": {
          "model_module": "@jupyter-widgets/base",
          "model_name": "LayoutModel",
          "state": {
            "_view_name": "LayoutView",
            "grid_template_rows": null,
            "right": null,
            "justify_content": null,
            "_view_module": "@jupyter-widgets/base",
            "overflow": null,
            "_model_module_version": "1.2.0",
            "_view_count": null,
            "flex_flow": null,
            "width": null,
            "min_width": null,
            "border": null,
            "align_items": null,
            "bottom": null,
            "_model_module": "@jupyter-widgets/base",
            "top": null,
            "grid_column": null,
            "overflow_y": null,
            "overflow_x": null,
            "grid_auto_flow": null,
            "grid_area": null,
            "grid_template_columns": null,
            "flex": null,
            "_model_name": "LayoutModel",
            "justify_items": null,
            "grid_row": null,
            "max_height": null,
            "align_content": null,
            "visibility": null,
            "align_self": null,
            "height": null,
            "min_height": null,
            "padding": null,
            "grid_auto_rows": null,
            "grid_gap": null,
            "max_width": null,
            "order": null,
            "_view_module_version": "1.2.0",
            "grid_template_areas": null,
            "object_position": null,
            "object_fit": null,
            "grid_auto_columns": null,
            "margin": null,
            "display": null,
            "left": null
          }
        },
        "314adabc74d54819a4fc71302df88074": {
          "model_module": "@jupyter-widgets/controls",
          "model_name": "HBoxModel",
          "state": {
            "_view_name": "HBoxView",
            "_dom_classes": [],
            "_model_name": "HBoxModel",
            "_view_module": "@jupyter-widgets/controls",
            "_model_module_version": "1.5.0",
            "_view_count": null,
            "_view_module_version": "1.5.0",
            "box_style": "",
            "layout": "IPY_MODEL_a91739cdd7354b659e0b27cad6840699",
            "_model_module": "@jupyter-widgets/controls",
            "children": [
              "IPY_MODEL_aa0456eec6fc444c8bfe3d8f463c9e0b",
              "IPY_MODEL_327849b5dcb14bcfa7d2c04d357b5f11"
            ]
          }
        },
        "a91739cdd7354b659e0b27cad6840699": {
          "model_module": "@jupyter-widgets/base",
          "model_name": "LayoutModel",
          "state": {
            "_view_name": "LayoutView",
            "grid_template_rows": null,
            "right": null,
            "justify_content": null,
            "_view_module": "@jupyter-widgets/base",
            "overflow": null,
            "_model_module_version": "1.2.0",
            "_view_count": null,
            "flex_flow": null,
            "width": null,
            "min_width": null,
            "border": null,
            "align_items": null,
            "bottom": null,
            "_model_module": "@jupyter-widgets/base",
            "top": null,
            "grid_column": null,
            "overflow_y": null,
            "overflow_x": null,
            "grid_auto_flow": null,
            "grid_area": null,
            "grid_template_columns": null,
            "flex": null,
            "_model_name": "LayoutModel",
            "justify_items": null,
            "grid_row": null,
            "max_height": null,
            "align_content": null,
            "visibility": null,
            "align_self": null,
            "height": null,
            "min_height": null,
            "padding": null,
            "grid_auto_rows": null,
            "grid_gap": null,
            "max_width": null,
            "order": null,
            "_view_module_version": "1.2.0",
            "grid_template_areas": null,
            "object_position": null,
            "object_fit": null,
            "grid_auto_columns": null,
            "margin": null,
            "display": null,
            "left": null
          }
        },
        "aa0456eec6fc444c8bfe3d8f463c9e0b": {
          "model_module": "@jupyter-widgets/controls",
          "model_name": "FloatProgressModel",
          "state": {
            "_view_name": "ProgressView",
            "style": "IPY_MODEL_0eb0f3a61b3946339006e4d7b3cf651b",
            "_dom_classes": [],
            "description": "Computing transition probabilities: 100%",
            "_model_name": "FloatProgressModel",
            "bar_style": "success",
            "max": 255,
            "_view_module": "@jupyter-widgets/controls",
            "_model_module_version": "1.5.0",
            "value": 255,
            "_view_count": null,
            "_view_module_version": "1.5.0",
            "orientation": "horizontal",
            "min": 0,
            "description_tooltip": null,
            "_model_module": "@jupyter-widgets/controls",
            "layout": "IPY_MODEL_f583907f940d4d48b443900b429f707d"
          }
        },
        "327849b5dcb14bcfa7d2c04d357b5f11": {
          "model_module": "@jupyter-widgets/controls",
          "model_name": "HTMLModel",
          "state": {
            "_view_name": "HTMLView",
            "style": "IPY_MODEL_286ecef6d4ee4359adbbd8a062d6ef88",
            "_dom_classes": [],
            "description": "",
            "_model_name": "HTMLModel",
            "placeholder": "​",
            "_view_module": "@jupyter-widgets/controls",
            "_model_module_version": "1.5.0",
            "value": " 255/255 [00:01&lt;00:00, 239.30it/s]",
            "_view_count": null,
            "_view_module_version": "1.5.0",
            "description_tooltip": null,
            "_model_module": "@jupyter-widgets/controls",
            "layout": "IPY_MODEL_05a9c301cf734895acf98272b654f795"
          }
        },
        "0eb0f3a61b3946339006e4d7b3cf651b": {
          "model_module": "@jupyter-widgets/controls",
          "model_name": "ProgressStyleModel",
          "state": {
            "_view_name": "StyleView",
            "_model_name": "ProgressStyleModel",
            "description_width": "initial",
            "_view_module": "@jupyter-widgets/base",
            "_model_module_version": "1.5.0",
            "_view_count": null,
            "_view_module_version": "1.2.0",
            "bar_color": null,
            "_model_module": "@jupyter-widgets/controls"
          }
        },
        "f583907f940d4d48b443900b429f707d": {
          "model_module": "@jupyter-widgets/base",
          "model_name": "LayoutModel",
          "state": {
            "_view_name": "LayoutView",
            "grid_template_rows": null,
            "right": null,
            "justify_content": null,
            "_view_module": "@jupyter-widgets/base",
            "overflow": null,
            "_model_module_version": "1.2.0",
            "_view_count": null,
            "flex_flow": null,
            "width": null,
            "min_width": null,
            "border": null,
            "align_items": null,
            "bottom": null,
            "_model_module": "@jupyter-widgets/base",
            "top": null,
            "grid_column": null,
            "overflow_y": null,
            "overflow_x": null,
            "grid_auto_flow": null,
            "grid_area": null,
            "grid_template_columns": null,
            "flex": null,
            "_model_name": "LayoutModel",
            "justify_items": null,
            "grid_row": null,
            "max_height": null,
            "align_content": null,
            "visibility": null,
            "align_self": null,
            "height": null,
            "min_height": null,
            "padding": null,
            "grid_auto_rows": null,
            "grid_gap": null,
            "max_width": null,
            "order": null,
            "_view_module_version": "1.2.0",
            "grid_template_areas": null,
            "object_position": null,
            "object_fit": null,
            "grid_auto_columns": null,
            "margin": null,
            "display": null,
            "left": null
          }
        },
        "286ecef6d4ee4359adbbd8a062d6ef88": {
          "model_module": "@jupyter-widgets/controls",
          "model_name": "DescriptionStyleModel",
          "state": {
            "_view_name": "StyleView",
            "_model_name": "DescriptionStyleModel",
            "description_width": "",
            "_view_module": "@jupyter-widgets/base",
            "_model_module_version": "1.5.0",
            "_view_count": null,
            "_view_module_version": "1.2.0",
            "_model_module": "@jupyter-widgets/controls"
          }
        },
        "05a9c301cf734895acf98272b654f795": {
          "model_module": "@jupyter-widgets/base",
          "model_name": "LayoutModel",
          "state": {
            "_view_name": "LayoutView",
            "grid_template_rows": null,
            "right": null,
            "justify_content": null,
            "_view_module": "@jupyter-widgets/base",
            "overflow": null,
            "_model_module_version": "1.2.0",
            "_view_count": null,
            "flex_flow": null,
            "width": null,
            "min_width": null,
            "border": null,
            "align_items": null,
            "bottom": null,
            "_model_module": "@jupyter-widgets/base",
            "top": null,
            "grid_column": null,
            "overflow_y": null,
            "overflow_x": null,
            "grid_auto_flow": null,
            "grid_area": null,
            "grid_template_columns": null,
            "flex": null,
            "_model_name": "LayoutModel",
            "justify_items": null,
            "grid_row": null,
            "max_height": null,
            "align_content": null,
            "visibility": null,
            "align_self": null,
            "height": null,
            "min_height": null,
            "padding": null,
            "grid_auto_rows": null,
            "grid_gap": null,
            "max_width": null,
            "order": null,
            "_view_module_version": "1.2.0",
            "grid_template_areas": null,
            "object_position": null,
            "object_fit": null,
            "grid_auto_columns": null,
            "margin": null,
            "display": null,
            "left": null
          }
        },
        "f0c0b43cc7d64b829b7a4baa1aa59782": {
          "model_module": "@jupyter-widgets/controls",
          "model_name": "HBoxModel",
          "state": {
            "_view_name": "HBoxView",
            "_dom_classes": [],
            "_model_name": "HBoxModel",
            "_view_module": "@jupyter-widgets/controls",
            "_model_module_version": "1.5.0",
            "_view_count": null,
            "_view_module_version": "1.5.0",
            "box_style": "",
            "layout": "IPY_MODEL_ef43a8eb94c044b7a39d518fa0dfc1cc",
            "_model_module": "@jupyter-widgets/controls",
            "children": [
              "IPY_MODEL_36a05f1e549b4dce9faa3329b4baa8a8",
              "IPY_MODEL_ad5f1082719e4f71bab1bedf2bcd7054"
            ]
          }
        },
        "ef43a8eb94c044b7a39d518fa0dfc1cc": {
          "model_module": "@jupyter-widgets/base",
          "model_name": "LayoutModel",
          "state": {
            "_view_name": "LayoutView",
            "grid_template_rows": null,
            "right": null,
            "justify_content": null,
            "_view_module": "@jupyter-widgets/base",
            "overflow": null,
            "_model_module_version": "1.2.0",
            "_view_count": null,
            "flex_flow": null,
            "width": null,
            "min_width": null,
            "border": null,
            "align_items": null,
            "bottom": null,
            "_model_module": "@jupyter-widgets/base",
            "top": null,
            "grid_column": null,
            "overflow_y": null,
            "overflow_x": null,
            "grid_auto_flow": null,
            "grid_area": null,
            "grid_template_columns": null,
            "flex": null,
            "_model_name": "LayoutModel",
            "justify_items": null,
            "grid_row": null,
            "max_height": null,
            "align_content": null,
            "visibility": null,
            "align_self": null,
            "height": null,
            "min_height": null,
            "padding": null,
            "grid_auto_rows": null,
            "grid_gap": null,
            "max_width": null,
            "order": null,
            "_view_module_version": "1.2.0",
            "grid_template_areas": null,
            "object_position": null,
            "object_fit": null,
            "grid_auto_columns": null,
            "margin": null,
            "display": null,
            "left": null
          }
        },
        "36a05f1e549b4dce9faa3329b4baa8a8": {
          "model_module": "@jupyter-widgets/controls",
          "model_name": "FloatProgressModel",
          "state": {
            "_view_name": "ProgressView",
            "style": "IPY_MODEL_23a50d8c6efd4a0cae4cc723a1fc32f2",
            "_dom_classes": [],
            "description": "Computing transition probabilities: 100%",
            "_model_name": "FloatProgressModel",
            "bar_style": "success",
            "max": 255,
            "_view_module": "@jupyter-widgets/controls",
            "_model_module_version": "1.5.0",
            "value": 255,
            "_view_count": null,
            "_view_module_version": "1.5.0",
            "orientation": "horizontal",
            "min": 0,
            "description_tooltip": null,
            "_model_module": "@jupyter-widgets/controls",
            "layout": "IPY_MODEL_0abd48b748754c829bc49e509d913785"
          }
        },
        "ad5f1082719e4f71bab1bedf2bcd7054": {
          "model_module": "@jupyter-widgets/controls",
          "model_name": "HTMLModel",
          "state": {
            "_view_name": "HTMLView",
            "style": "IPY_MODEL_973cc3509d9d45efa90088c421ab1b20",
            "_dom_classes": [],
            "description": "",
            "_model_name": "HTMLModel",
            "placeholder": "​",
            "_view_module": "@jupyter-widgets/controls",
            "_model_module_version": "1.5.0",
            "value": " 255/255 [00:14&lt;00:00, 18.00it/s]",
            "_view_count": null,
            "_view_module_version": "1.5.0",
            "description_tooltip": null,
            "_model_module": "@jupyter-widgets/controls",
            "layout": "IPY_MODEL_315148a230b34164ab231efff8be2a4b"
          }
        },
        "23a50d8c6efd4a0cae4cc723a1fc32f2": {
          "model_module": "@jupyter-widgets/controls",
          "model_name": "ProgressStyleModel",
          "state": {
            "_view_name": "StyleView",
            "_model_name": "ProgressStyleModel",
            "description_width": "initial",
            "_view_module": "@jupyter-widgets/base",
            "_model_module_version": "1.5.0",
            "_view_count": null,
            "_view_module_version": "1.2.0",
            "bar_color": null,
            "_model_module": "@jupyter-widgets/controls"
          }
        },
        "0abd48b748754c829bc49e509d913785": {
          "model_module": "@jupyter-widgets/base",
          "model_name": "LayoutModel",
          "state": {
            "_view_name": "LayoutView",
            "grid_template_rows": null,
            "right": null,
            "justify_content": null,
            "_view_module": "@jupyter-widgets/base",
            "overflow": null,
            "_model_module_version": "1.2.0",
            "_view_count": null,
            "flex_flow": null,
            "width": null,
            "min_width": null,
            "border": null,
            "align_items": null,
            "bottom": null,
            "_model_module": "@jupyter-widgets/base",
            "top": null,
            "grid_column": null,
            "overflow_y": null,
            "overflow_x": null,
            "grid_auto_flow": null,
            "grid_area": null,
            "grid_template_columns": null,
            "flex": null,
            "_model_name": "LayoutModel",
            "justify_items": null,
            "grid_row": null,
            "max_height": null,
            "align_content": null,
            "visibility": null,
            "align_self": null,
            "height": null,
            "min_height": null,
            "padding": null,
            "grid_auto_rows": null,
            "grid_gap": null,
            "max_width": null,
            "order": null,
            "_view_module_version": "1.2.0",
            "grid_template_areas": null,
            "object_position": null,
            "object_fit": null,
            "grid_auto_columns": null,
            "margin": null,
            "display": null,
            "left": null
          }
        },
        "973cc3509d9d45efa90088c421ab1b20": {
          "model_module": "@jupyter-widgets/controls",
          "model_name": "DescriptionStyleModel",
          "state": {
            "_view_name": "StyleView",
            "_model_name": "DescriptionStyleModel",
            "description_width": "",
            "_view_module": "@jupyter-widgets/base",
            "_model_module_version": "1.5.0",
            "_view_count": null,
            "_view_module_version": "1.2.0",
            "_model_module": "@jupyter-widgets/controls"
          }
        },
        "315148a230b34164ab231efff8be2a4b": {
          "model_module": "@jupyter-widgets/base",
          "model_name": "LayoutModel",
          "state": {
            "_view_name": "LayoutView",
            "grid_template_rows": null,
            "right": null,
            "justify_content": null,
            "_view_module": "@jupyter-widgets/base",
            "overflow": null,
            "_model_module_version": "1.2.0",
            "_view_count": null,
            "flex_flow": null,
            "width": null,
            "min_width": null,
            "border": null,
            "align_items": null,
            "bottom": null,
            "_model_module": "@jupyter-widgets/base",
            "top": null,
            "grid_column": null,
            "overflow_y": null,
            "overflow_x": null,
            "grid_auto_flow": null,
            "grid_area": null,
            "grid_template_columns": null,
            "flex": null,
            "_model_name": "LayoutModel",
            "justify_items": null,
            "grid_row": null,
            "max_height": null,
            "align_content": null,
            "visibility": null,
            "align_self": null,
            "height": null,
            "min_height": null,
            "padding": null,
            "grid_auto_rows": null,
            "grid_gap": null,
            "max_width": null,
            "order": null,
            "_view_module_version": "1.2.0",
            "grid_template_areas": null,
            "object_position": null,
            "object_fit": null,
            "grid_auto_columns": null,
            "margin": null,
            "display": null,
            "left": null
          }
        }
      }
    }
  },
  "cells": [
    {
      "cell_type": "markdown",
      "metadata": {
        "id": "ja8G4NYcKHDe"
      },
      "source": [
        "\n",
        "<h1><center> <font color='black'>  Network Science (LTAT.02.011) - Homework - 02  (Total points - 15)</font></center></h1>\n",
        "<h2><center> <font color='black'> Introduction to Network Analysis</font></center></h3>\n",
        "<h2><center> <font color='black'> University of Tartu</font></center></h3>\n"
      ]
    },
    {
      "cell_type": "markdown",
      "metadata": {
        "id": "O4VsmZOHKHDl"
      },
      "source": [
        "================================================================================================================"
      ]
    },
    {
      "cell_type": "markdown",
      "metadata": {
        "id": "3C8eLb7GKHDl"
      },
      "source": [
        "# Homework instructions"
      ]
    },
    {
      "cell_type": "markdown",
      "metadata": {
        "id": "kMAGUR_aKHDm"
      },
      "source": [
        "\n",
        "- Please provide the names and student IDs of the team-members (Maximum 2 person) in the field \"Team mates\" below. If you are not working in a team please insert only your name and student ID. \n",
        "\n",
        "- ONLY one of the teammates should submit the homework. We will grade the homework and the marks and feedback is applied for both the team members. So please communicate with your team member about marks and feedback if you are submit the homework.\n",
        "\n",
        "\n",
        "- The accepted submission format is .ipynb file. Please upload the file on moodle.\n",
        "\n",
        "- The submission will automatically close on **<font color='red'>7th April 2021 at 23:59 pm</font>**, so please make sure you have enough time to submit the homework. \n",
        "\n",
        "- You do not necessarily need to work on Colab. Especially as the size and the complexity of datasets will increase through the course, you can install jupyter notebooks locally and work from there.\n",
        "\n",
        "- If you do not understand what a question is asking for, please ask in Moodle. \n",
        "\n",
        "- Please Click on \"**Restart and Run All**\" before uploading the '.ipynb' file.\n",
        "\n",
        "- Plagiarism is <font color='red'>**PROHIBITED**</font>. Any form of plagiarism will be dealt according to the university policy (https://www.ut.ee/en/current-students/academic-fraud).\n",
        "\n"
      ]
    },
    {
      "cell_type": "markdown",
      "metadata": {
        "id": "oc1zmBfnKHDm"
      },
      "source": [
        "**<h2><font color='red'>Student info:</font></h2>**\n",
        "\n",
        "\n",
        "<font color='red'>Full name: </font> Hannula-Katrin Pandis, Canberk Özen\n",
        "\n",
        "<font color='red'>Student ID: </font> B04920, B97964\n",
        "\n"
      ]
    },
    {
      "cell_type": "markdown",
      "metadata": {
        "id": "HyJ-LwyyKHDn"
      },
      "source": [
        "================================================================================================================"
      ]
    },
    {
      "cell_type": "markdown",
      "metadata": {
        "id": "Xcw4x7tTiaTd"
      },
      "source": [
        "# 1. Link prediction using varoius scoring method (5 points)"
      ]
    },
    {
      "cell_type": "markdown",
      "metadata": {
        "id": "Es-XMFo0vC9j"
      },
      "source": [
        "<font color='red'>At the start, we have provided the necessary codes. Please run all of these cells before starting tasks 1.1 through 1.3.</font>"
      ]
    },
    {
      "cell_type": "code",
      "metadata": {
        "id": "xukwjovUiaTe"
      },
      "source": [
        "import pandas as pd\n",
        "import numpy as np\n",
        "import random\n",
        "import networkx as nx\n",
        "from tqdm import tqdm\n",
        "import re\n",
        "import matplotlib.pyplot as plt\n",
        "\n",
        "from sklearn.linear_model import LogisticRegression\n",
        "from sklearn.metrics import classification_report, roc_auc_score\n",
        "from sklearn.model_selection import train_test_split\n",
        "from sklearn.metrics import confusion_matrix"
      ],
      "execution_count": null,
      "outputs": []
    },
    {
      "cell_type": "code",
      "metadata": {
        "colab": {
          "base_uri": "https://localhost:8080/"
        },
        "id": "gao9nn7ziaTe",
        "outputId": "20f9521c-e300-4689-97d1-306e80155c44"
      },
      "source": [
        "# load nodes details\n",
        "with open(\"fb-pages-food.nodes\") as f:\n",
        "    fb_nodes = f.read().splitlines() \n",
        "\n",
        "# load edges (or links)\n",
        "with open(\"fb-pages-food.edges\") as f:\n",
        "    fb_links = f.read().splitlines() \n",
        "\n",
        "len(fb_nodes), len(fb_links)"
      ],
      "execution_count": null,
      "outputs": [
        {
          "output_type": "execute_result",
          "data": {
            "text/plain": [
              "(621, 2102)"
            ]
          },
          "metadata": {
            "tags": []
          },
          "execution_count": 2
        }
      ]
    },
    {
      "cell_type": "code",
      "metadata": {
        "colab": {
          "base_uri": "https://localhost:8080/",
          "height": 207
        },
        "id": "b-3sr5YhiaTf",
        "outputId": "6fd3deea-b67e-4d01-bbbb-11b1b76af5b9"
      },
      "source": [
        "# captture nodes in 2 separate lists\n",
        "node_list_1 = []\n",
        "node_list_2 = []\n",
        "\n",
        "for i in tqdm(fb_links):\n",
        "  node_list_1.append(i.split(',')[0])\n",
        "  node_list_2.append(i.split(',')[1])\n",
        "\n",
        "fb_df = pd.DataFrame({'node_1': node_list_1, 'node_2': node_list_2})\n",
        "fb_df.head()"
      ],
      "execution_count": null,
      "outputs": [
        {
          "output_type": "stream",
          "text": [
            "100%|██████████| 2102/2102 [00:00<00:00, 522671.75it/s]\n"
          ],
          "name": "stderr"
        },
        {
          "output_type": "execute_result",
          "data": {
            "text/html": [
              "<div>\n",
              "<style scoped>\n",
              "    .dataframe tbody tr th:only-of-type {\n",
              "        vertical-align: middle;\n",
              "    }\n",
              "\n",
              "    .dataframe tbody tr th {\n",
              "        vertical-align: top;\n",
              "    }\n",
              "\n",
              "    .dataframe thead th {\n",
              "        text-align: right;\n",
              "    }\n",
              "</style>\n",
              "<table border=\"1\" class=\"dataframe\">\n",
              "  <thead>\n",
              "    <tr style=\"text-align: right;\">\n",
              "      <th></th>\n",
              "      <th>node_1</th>\n",
              "      <th>node_2</th>\n",
              "    </tr>\n",
              "  </thead>\n",
              "  <tbody>\n",
              "    <tr>\n",
              "      <th>0</th>\n",
              "      <td>0</td>\n",
              "      <td>276</td>\n",
              "    </tr>\n",
              "    <tr>\n",
              "      <th>1</th>\n",
              "      <td>0</td>\n",
              "      <td>58</td>\n",
              "    </tr>\n",
              "    <tr>\n",
              "      <th>2</th>\n",
              "      <td>0</td>\n",
              "      <td>132</td>\n",
              "    </tr>\n",
              "    <tr>\n",
              "      <th>3</th>\n",
              "      <td>0</td>\n",
              "      <td>603</td>\n",
              "    </tr>\n",
              "    <tr>\n",
              "      <th>4</th>\n",
              "      <td>0</td>\n",
              "      <td>398</td>\n",
              "    </tr>\n",
              "  </tbody>\n",
              "</table>\n",
              "</div>"
            ],
            "text/plain": [
              "  node_1 node_2\n",
              "0      0    276\n",
              "1      0     58\n",
              "2      0    132\n",
              "3      0    603\n",
              "4      0    398"
            ]
          },
          "metadata": {
            "tags": []
          },
          "execution_count": 3
        }
      ]
    },
    {
      "cell_type": "code",
      "metadata": {
        "colab": {
          "base_uri": "https://localhost:8080/"
        },
        "id": "5LNge8oOiaTg",
        "outputId": "09e820b1-887d-4868-ee35-38a761953717"
      },
      "source": [
        "# create graph\n",
        "G = nx.from_pandas_edgelist(fb_df, \"node_1\", \"node_2\", create_using=nx.Graph())\n",
        "\n",
        "# combine all nodes in a list\n",
        "node_list = node_list_1 + node_list_2\n",
        "\n",
        "# remove duplicate items from the list\n",
        "node_list = list(dict.fromkeys(node_list))\n",
        "\n",
        "# build adjacency matrix\n",
        "adj_G = nx.to_numpy_matrix(G, nodelist = node_list)\n",
        "\n",
        "# get unconnected node-pairs\n",
        "all_unconnected_pairs = []\n",
        "\n",
        "# traverse adjacency matrix\n",
        "offset = 0\n",
        "for i in tqdm(range(adj_G.shape[0])):\n",
        "  for j in range(offset,adj_G.shape[1]):\n",
        "    if i != j:\n",
        "      if nx.shortest_path_length(G, str(i), str(j)) <=2:\n",
        "        if adj_G[i,j] == 0:\n",
        "          all_unconnected_pairs.append([node_list[i],node_list[j]])\n",
        "\n",
        "  offset = offset + 1\n",
        "\n",
        "\n",
        "node_1_unlinked = [i[0] for i in all_unconnected_pairs]\n",
        "node_2_unlinked = [i[1] for i in all_unconnected_pairs]\n",
        "\n",
        "data = pd.DataFrame({'node_1':node_1_unlinked, \n",
        "                     'node_2':node_2_unlinked})\n",
        "\n",
        "# add target variable 'link'\n",
        "data['link'] = 0\n",
        "\n",
        "\n",
        "initial_node_count = len(G.nodes)\n",
        "\n",
        "fb_df_temp = fb_df.copy()\n",
        "\n",
        "# empty list to store removable links\n",
        "omissible_links_index = []\n",
        "\n",
        "for i in tqdm(fb_df.index.values):\n",
        "  \n",
        "  # remove a node pair and build a new graph\n",
        "  G_temp = nx.from_pandas_edgelist(fb_df_temp.drop(index = i), \"node_1\", \"node_2\", create_using=nx.Graph())\n",
        "  \n",
        "  # check there is no spliting of graph and number of nodes is same\n",
        "  if (nx.number_connected_components(G_temp) == 1) and (len(G_temp.nodes) == initial_node_count):\n",
        "    omissible_links_index.append(i)\n",
        "    fb_df_temp = fb_df_temp.drop(index = i)\n",
        "    \n",
        "\n",
        "# create dataframe of removable edges\n",
        "fb_df_ghost = fb_df.loc[omissible_links_index]\n",
        "\n",
        "# add the target variable 'link'\n",
        "fb_df_ghost['link'] = 1\n",
        "\n",
        "data = data.append(fb_df_ghost[['node_1', 'node_2', 'link']], ignore_index=True)\n",
        "\n",
        "# drop removable edges\n",
        "fb_df_partial = fb_df.drop(index=fb_df_ghost.index.values)\n",
        "\n",
        "# build graph\n",
        "G_data = nx.from_pandas_edgelist(fb_df_partial, \"node_1\", \"node_2\", create_using=nx.Graph())"
      ],
      "execution_count": null,
      "outputs": [
        {
          "output_type": "stream",
          "text": [
            "100%|██████████| 620/620 [00:12<00:00, 49.62it/s] \n",
            "100%|██████████| 2102/2102 [00:11<00:00, 187.43it/s]\n"
          ],
          "name": "stderr"
        }
      ]
    },
    {
      "cell_type": "code",
      "metadata": {
        "colab": {
          "base_uri": "https://localhost:8080/",
          "height": 191
        },
        "id": "UMUkf3EViaTg",
        "outputId": "f48f7c01-6124-48f6-de61-7e19d15a36c2"
      },
      "source": [
        "data.head()"
      ],
      "execution_count": null,
      "outputs": [
        {
          "output_type": "execute_result",
          "data": {
            "text/html": [
              "<div>\n",
              "<style scoped>\n",
              "    .dataframe tbody tr th:only-of-type {\n",
              "        vertical-align: middle;\n",
              "    }\n",
              "\n",
              "    .dataframe tbody tr th {\n",
              "        vertical-align: top;\n",
              "    }\n",
              "\n",
              "    .dataframe thead th {\n",
              "        text-align: right;\n",
              "    }\n",
              "</style>\n",
              "<table border=\"1\" class=\"dataframe\">\n",
              "  <thead>\n",
              "    <tr style=\"text-align: right;\">\n",
              "      <th></th>\n",
              "      <th>node_1</th>\n",
              "      <th>node_2</th>\n",
              "      <th>link</th>\n",
              "    </tr>\n",
              "  </thead>\n",
              "  <tbody>\n",
              "    <tr>\n",
              "      <th>0</th>\n",
              "      <td>0</td>\n",
              "      <td>22</td>\n",
              "      <td>0</td>\n",
              "    </tr>\n",
              "    <tr>\n",
              "      <th>1</th>\n",
              "      <td>0</td>\n",
              "      <td>526</td>\n",
              "      <td>0</td>\n",
              "    </tr>\n",
              "    <tr>\n",
              "      <th>2</th>\n",
              "      <td>0</td>\n",
              "      <td>36</td>\n",
              "      <td>0</td>\n",
              "    </tr>\n",
              "    <tr>\n",
              "      <th>3</th>\n",
              "      <td>0</td>\n",
              "      <td>54</td>\n",
              "      <td>0</td>\n",
              "    </tr>\n",
              "    <tr>\n",
              "      <th>4</th>\n",
              "      <td>0</td>\n",
              "      <td>56</td>\n",
              "      <td>0</td>\n",
              "    </tr>\n",
              "  </tbody>\n",
              "</table>\n",
              "</div>"
            ],
            "text/plain": [
              "  node_1 node_2  link\n",
              "0      0     22     0\n",
              "1      0    526     0\n",
              "2      0     36     0\n",
              "3      0     54     0\n",
              "4      0     56     0"
            ]
          },
          "metadata": {
            "tags": []
          },
          "execution_count": 5
        }
      ]
    },
    {
      "cell_type": "markdown",
      "metadata": {
        "id": "UPa0rqUOiaTh"
      },
      "source": [
        "## **1.1. Calculate all the scores for every pair in \"data\" using graph \"G_data\". (4 points)**\n",
        "\n",
        "<font color='red'>You can add extra cells if required.</font>"
      ]
    },
    {
      "cell_type": "code",
      "metadata": {
        "id": "Fao7ziNAw66Z"
      },
      "source": [
        "# 1. Number of common neighbors\n",
        "neighbours = []\n",
        "for i in range(len(data)):\n",
        "  neighbours.append(len(list(nx.common_neighbors(G_data,data.node_1[i],data.node_2[i]))))\n",
        "\n",
        "data['common_neighbor'] = neighbours"
      ],
      "execution_count": null,
      "outputs": []
    },
    {
      "cell_type": "code",
      "metadata": {
        "id": "j2pQnRvow8WI"
      },
      "source": [
        "# 2. Jaccard coefficient\n",
        "jaccard = []\n",
        "for i in range(len(data)):\n",
        "  jaccard.append(list(nx.jaccard_coefficient(G_data, ebunch=[(data.node_1[i],data.node_2[i])]))[0][2])\n",
        "\n",
        "data['jaccard_similarity'] = jaccard"
      ],
      "execution_count": null,
      "outputs": []
    },
    {
      "cell_type": "code",
      "metadata": {
        "id": "r7hXFWNQw9mo"
      },
      "source": [
        "# 3. Adamic/Adar\n",
        "adamic_adar = []\n",
        "for i in range(0,len(data)):\n",
        "  if data.node_1[i] == data.node_2[i]:\n",
        "    adamic_adar.append(0)\n",
        "  else:\n",
        "    adamic_adar.append(list(nx.adamic_adar_index(G_data, ebunch=[(data.node_1[i],data.node_2[i])]))[0][2])\n",
        "    #print(list(nx.adamic_adar_index(G_data, ebunch=[(data.node_1[i],data.node_2[i])])))\n",
        "\n",
        "data['adamic_adar_index'] = adamic_adar"
      ],
      "execution_count": null,
      "outputs": []
    },
    {
      "cell_type": "code",
      "metadata": {
        "id": "TzBb3vZVxADF"
      },
      "source": [
        "# 4. Shortest path\n",
        "def compute_shortest_path_length(u,v):\n",
        "    try:\n",
        "        if G_data.has_edge(u,v):\n",
        "            return -1\n",
        "        else:\n",
        "            p= nx.shortest_path_length(G_data,source=u,target=v)\n",
        "        return p\n",
        "    except:\n",
        "        return -1\n",
        "\n",
        "shortest_path = []\n",
        "for i in range(len(data)):\n",
        "  shortest_path.append(compute_shortest_path_length(data.node_1[i],data.node_2[i]))\n",
        "\n",
        "data['shortest_path'] = shortest_path"
      ],
      "execution_count": null,
      "outputs": []
    },
    {
      "cell_type": "code",
      "metadata": {
        "id": "1m2xy-dNxBxP"
      },
      "source": [
        "# 5. Katz score\n",
        "\n",
        "from numpy.linalg import inv\n",
        "L = nx.normalized_laplacian_matrix(G_data)\n",
        "e = (np.linalg.eigvals(L.A)).real\n",
        "\n",
        "beta = 1/max(e)\n",
        "I = np.identity(len(G_data.nodes))\n",
        "katz = inv(I - nx.to_numpy_array(G_data)*beta) - I\n",
        "\n",
        "katz_score = []\n",
        "\n",
        "for i in range(len(data)):\n",
        "  katz_score.append(katz[int(data.node_1[i])][int(data.node_2[i])])\n",
        "\n",
        "data['katz_score'] = katz_score"
      ],
      "execution_count": null,
      "outputs": []
    },
    {
      "cell_type": "code",
      "metadata": {
        "id": "4opltfA1xDeL"
      },
      "source": [
        "# 6. Preferrential attachment\n",
        "pref = []\n",
        "for i in range(len(data)):\n",
        "  pref.append(list(nx.preferential_attachment(G_data, ebunch=[(data.node_1[i],data.node_2[i])]))[0][2])\n",
        "\n",
        "data['preferrential_attachment'] = pref"
      ],
      "execution_count": null,
      "outputs": []
    },
    {
      "cell_type": "code",
      "metadata": {
        "id": "El7t6OrhxFJM"
      },
      "source": [
        "# 7. Hitting times\n",
        "dist = []\n",
        "for i in range(len(data)):\n",
        "  if data.node_1[i] == data.node_2[i]:\n",
        "    dist.append(0)\n",
        "    #print(\"added 0\")\n",
        "  else:\n",
        "    asp = nx.all_simple_paths(G_data, data.node_1[i], data.node_2[i])\n",
        "    for path in asp:\n",
        "      #print(len(path))\n",
        "      dist.append(len(path))\n",
        "      \n",
        "data['hitting_time'] = dist"
      ],
      "execution_count": null,
      "outputs": []
    },
    {
      "cell_type": "code",
      "metadata": {
        "id": "iHj59VPEvVZ-"
      },
      "source": [
        "# 8. SimRank\n",
        "sim = nx.simrank_similarity(G_data)\n",
        "sim_list = [[sim[u][v] for v in sorted(sim[u])] for u in sorted(sim)]\n",
        "simrank = np.array(sim_list)\n",
        "\n",
        "sim_rank = []\n",
        "for i in range(len(data)):\n",
        "  a = int(data.node_1[i])\n",
        "  b = int(data.node_2[i])\n",
        "  sim_rank.append(simrank[a][b])\n",
        "\n",
        "data['simrank'] = sim_rank"
      ],
      "execution_count": null,
      "outputs": []
    },
    {
      "cell_type": "code",
      "metadata": {
        "id": "MdCHNqjXiaTh"
      },
      "source": [
        "# 8. SimRank\n",
        "\n",
        "################# THIS RUNS FOR WAY TOO LONG! approximately 8sec per pair with max_iterations=4 and takes too much time to get the results!\n",
        "## even running with max_iteration=1 it would take 9,5hrs to complete. We have added runtime to GPU but it does not help\n",
        "\n",
        "#sim = []\n",
        "#for i in range(len(data)):\n",
        "#  sim.append(nx.simrank_similarity(G_data, source=data.node_1[i], target=data.node_2[i], max_iterations=4))\n",
        "  #print(i, \"and value is \" , sim[i])\n",
        "\n",
        "#data['simrank'] = sim"
      ],
      "execution_count": null,
      "outputs": []
    },
    {
      "cell_type": "markdown",
      "metadata": {
        "id": "rrpLKJbgiaTh"
      },
      "source": [
        "## **1.2. Create features and target value for the model. Split dataset into training and testing. (0.5 point)**"
      ]
    },
    {
      "cell_type": "code",
      "metadata": {
        "id": "Ab1tTABbiaTi"
      },
      "source": [
        "'''\n",
        "Hint: Remove columns node_1,\tnode_2 and link while creating \"x\" from data.\n",
        "'''\n",
        "\n",
        "data_new = data.drop(columns = ['node_1', 'node_2', 'link'], axis = 1)\n",
        "\n",
        "x = data_new\n",
        "y = data['link']"
      ],
      "execution_count": null,
      "outputs": []
    },
    {
      "cell_type": "code",
      "metadata": {
        "id": "RjS_jbibiaTi"
      },
      "source": [
        "xtrain, xtest, ytrain, ytest = train_test_split(x, y, \n",
        "                                                test_size = 0.3, \n",
        "                                                random_state = 35)"
      ],
      "execution_count": null,
      "outputs": []
    },
    {
      "cell_type": "markdown",
      "metadata": {
        "id": "FpXgiV_0iaTi"
      },
      "source": [
        "## **1.3. Apply logistic regression model and report auc roc score. (0.5 point)**"
      ]
    },
    {
      "cell_type": "code",
      "metadata": {
        "id": "KUQJVUEiiaTi",
        "colab": {
          "base_uri": "https://localhost:8080/"
        },
        "outputId": "e8670c75-139d-4ca8-d5db-f5b236abf50d"
      },
      "source": [
        "lr = LogisticRegression(class_weight=\"balanced\")\n",
        "\n",
        "#TODO\n",
        "lr.fit(xtrain, ytrain)"
      ],
      "execution_count": null,
      "outputs": [
        {
          "output_type": "stream",
          "text": [
            "/usr/local/lib/python3.7/dist-packages/sklearn/linear_model/_logistic.py:940: ConvergenceWarning: lbfgs failed to converge (status=1):\n",
            "STOP: TOTAL NO. of ITERATIONS REACHED LIMIT.\n",
            "\n",
            "Increase the number of iterations (max_iter) or scale the data as shown in:\n",
            "    https://scikit-learn.org/stable/modules/preprocessing.html\n",
            "Please also refer to the documentation for alternative solver options:\n",
            "    https://scikit-learn.org/stable/modules/linear_model.html#logistic-regression\n",
            "  extra_warning_msg=_LOGISTIC_SOLVER_CONVERGENCE_MSG)\n"
          ],
          "name": "stderr"
        },
        {
          "output_type": "execute_result",
          "data": {
            "text/plain": [
              "LogisticRegression(C=1.0, class_weight='balanced', dual=False,\n",
              "                   fit_intercept=True, intercept_scaling=1, l1_ratio=None,\n",
              "                   max_iter=100, multi_class='auto', n_jobs=None, penalty='l2',\n",
              "                   random_state=None, solver='lbfgs', tol=0.0001, verbose=0,\n",
              "                   warm_start=False)"
            ]
          },
          "metadata": {
            "tags": []
          },
          "execution_count": 18
        }
      ]
    },
    {
      "cell_type": "code",
      "metadata": {
        "id": "B7NobR8piaTi",
        "colab": {
          "base_uri": "https://localhost:8080/"
        },
        "outputId": "cdc8a6b2-f85c-43c3-bee4-b1898e6f1deb"
      },
      "source": [
        "predictions = lr.predict_proba(xtest)\n",
        "\n",
        "#TODO\n",
        "roc_auc_score(ytest, predictions[:,1])"
      ],
      "execution_count": null,
      "outputs": [
        {
          "output_type": "execute_result",
          "data": {
            "text/plain": [
              "0.8472854045673684"
            ]
          },
          "metadata": {
            "tags": []
          },
          "execution_count": 19
        }
      ]
    },
    {
      "cell_type": "markdown",
      "metadata": {
        "id": "EB-EB4BFKHDn"
      },
      "source": [
        "================================================================================================================"
      ]
    },
    {
      "cell_type": "markdown",
      "metadata": {
        "id": "i4ZugzV1KHDn"
      },
      "source": [
        "##2. Node2Vec (10 points)\n",
        "documentation for reference - https://github.com/eliorc/node2vec  "
      ]
    },
    {
      "cell_type": "markdown",
      "metadata": {
        "id": "6YfMIFkiKHDo"
      },
      "source": [
        "# Dataset details:\n",
        "**In this homework, the dataset consists of network of Wikipedia articles. That is, nodes consists of Wikipedia articles and edges are the connections between the two articles if one article has hyper-links of other article. Following are the steps to generate network dataset** - <br>\n",
        "1. You are required to generate this type of network/graph from this [Website](https://densitydesign.github.io/strumentalia-seealsology/) (You can read more about its working on their webpage). \n",
        "2. After clicking this website link, you have to enter this URL https://en.wikipedia.org/wiki/Network_science in the text box shown on the webpage \"Paste your list of wikipedia articles here\" and put 2 in the \"Distance\" box if not already there. \n",
        "3. Then, click on \"Start Crawling\". \n",
        "4. Once the crawling is completed, you can download the \"TSV\" file in your local machine. This \"TSV\" file will be your edgelist, that is, each row consists of \"source\", \"target\" and \"level\"/\"depth\" information. <br>\n",
        "Note: You can also see how the graph looks likes by scrolling down that website's page."
      ]
    },
    {
      "cell_type": "markdown",
      "metadata": {
        "id": "GvZ0T-ZTKHDo"
      },
      "source": [
        "# Libraries"
      ]
    },
    {
      "cell_type": "code",
      "metadata": {
        "colab": {
          "base_uri": "https://localhost:8080/"
        },
        "id": "pk0lHTXHKHDo",
        "outputId": "45099671-b27b-4375-9109-2972f2ff8eff"
      },
      "source": [
        "# Importing required libraries (install other libraries if needed)\n",
        "!pip install node2vec\n",
        "import pandas as pd\n",
        "import numpy as np\n",
        "import networkx as nx\n",
        "import matplotlib.pyplot as plt\n",
        "from node2vec import Node2Vec\n",
        "from sklearn.preprocessing import StandardScaler\n",
        "from sklearn.metrics import classification_report\n",
        "from sklearn.model_selection import train_test_split\n",
        "from sklearn.svm import SVC"
      ],
      "execution_count": null,
      "outputs": [
        {
          "output_type": "stream",
          "text": [
            "Collecting node2vec\n",
            "  Downloading https://files.pythonhosted.org/packages/83/86/d87e1f51ca10799712ecd019279d8caf56dd6e4d2d09ce519ebd1ba89960/node2vec-0.4.2.tar.gz\n",
            "Requirement already satisfied: networkx in /usr/local/lib/python3.7/dist-packages (from node2vec) (2.5)\n",
            "Requirement already satisfied: gensim in /usr/local/lib/python3.7/dist-packages (from node2vec) (3.6.0)\n",
            "Requirement already satisfied: numpy in /usr/local/lib/python3.7/dist-packages (from node2vec) (1.19.5)\n",
            "Requirement already satisfied: tqdm in /usr/local/lib/python3.7/dist-packages (from node2vec) (4.41.1)\n",
            "Requirement already satisfied: joblib>=0.13.2 in /usr/local/lib/python3.7/dist-packages (from node2vec) (1.0.1)\n",
            "Requirement already satisfied: decorator>=4.3.0 in /usr/local/lib/python3.7/dist-packages (from networkx->node2vec) (4.4.2)\n",
            "Requirement already satisfied: smart-open>=1.2.1 in /usr/local/lib/python3.7/dist-packages (from gensim->node2vec) (4.2.0)\n",
            "Requirement already satisfied: six>=1.5.0 in /usr/local/lib/python3.7/dist-packages (from gensim->node2vec) (1.15.0)\n",
            "Requirement already satisfied: scipy>=0.18.1 in /usr/local/lib/python3.7/dist-packages (from gensim->node2vec) (1.4.1)\n",
            "Building wheels for collected packages: node2vec\n",
            "  Building wheel for node2vec (setup.py) ... \u001b[?25l\u001b[?25hdone\n",
            "  Created wheel for node2vec: filename=node2vec-0.4.2-cp37-none-any.whl size=5859 sha256=66f10f255e360b7b5280aac818f106d50171872e9b322eeaefb863dad69b7847\n",
            "  Stored in directory: /root/.cache/pip/wheels/2a/d6/34/7f62d314dfad813eea2a41c5e4a9dedec1f52e335688c8f7ad\n",
            "Successfully built node2vec\n",
            "Installing collected packages: node2vec\n",
            "Successfully installed node2vec-0.4.2\n"
          ],
          "name": "stdout"
        }
      ]
    },
    {
      "cell_type": "markdown",
      "metadata": {
        "id": "uaxJE7AzKHDp"
      },
      "source": [
        "# Reading the dataset"
      ]
    },
    {
      "cell_type": "code",
      "metadata": {
        "id": "t2b9UNTtKHDp"
      },
      "source": [
        "# import the \"TSV\" data file where edge list is stored (separated by tab) give the name of your file as 'network_science'\n",
        "edges_list = pd.read_csv(r\"network_science.tsv\", sep = '\\t')"
      ],
      "execution_count": null,
      "outputs": []
    },
    {
      "cell_type": "code",
      "metadata": {
        "colab": {
          "base_uri": "https://localhost:8080/",
          "height": 191
        },
        "id": "ULY6TaCTKHDq",
        "outputId": "dcc3f415-61b4-432a-be40-5345e820d33c"
      },
      "source": [
        "# check first five rows of the dataframe (will use \"depth\" column later)\n",
        "edges_list.head()"
      ],
      "execution_count": null,
      "outputs": [
        {
          "output_type": "execute_result",
          "data": {
            "text/html": [
              "<div>\n",
              "<style scoped>\n",
              "    .dataframe tbody tr th:only-of-type {\n",
              "        vertical-align: middle;\n",
              "    }\n",
              "\n",
              "    .dataframe tbody tr th {\n",
              "        vertical-align: top;\n",
              "    }\n",
              "\n",
              "    .dataframe thead th {\n",
              "        text-align: right;\n",
              "    }\n",
              "</style>\n",
              "<table border=\"1\" class=\"dataframe\">\n",
              "  <thead>\n",
              "    <tr style=\"text-align: right;\">\n",
              "      <th></th>\n",
              "      <th>source</th>\n",
              "      <th>target</th>\n",
              "      <th>depth</th>\n",
              "    </tr>\n",
              "  </thead>\n",
              "  <tbody>\n",
              "    <tr>\n",
              "      <th>0</th>\n",
              "      <td>network science</td>\n",
              "      <td>cascading failure</td>\n",
              "      <td>1</td>\n",
              "    </tr>\n",
              "    <tr>\n",
              "      <th>1</th>\n",
              "      <td>network science</td>\n",
              "      <td>climate as complex networks</td>\n",
              "      <td>1</td>\n",
              "    </tr>\n",
              "    <tr>\n",
              "      <th>2</th>\n",
              "      <td>network science</td>\n",
              "      <td>collaborative innovation network</td>\n",
              "      <td>1</td>\n",
              "    </tr>\n",
              "    <tr>\n",
              "      <th>3</th>\n",
              "      <td>network science</td>\n",
              "      <td>communicative ecology</td>\n",
              "      <td>1</td>\n",
              "    </tr>\n",
              "    <tr>\n",
              "      <th>4</th>\n",
              "      <td>network science</td>\n",
              "      <td>complex network</td>\n",
              "      <td>1</td>\n",
              "    </tr>\n",
              "  </tbody>\n",
              "</table>\n",
              "</div>"
            ],
            "text/plain": [
              "            source                            target  depth\n",
              "0  network science                 cascading failure      1\n",
              "1  network science       climate as complex networks      1\n",
              "2  network science  collaborative innovation network      1\n",
              "3  network science             communicative ecology      1\n",
              "4  network science                   complex network      1"
            ]
          },
          "metadata": {
            "tags": []
          },
          "execution_count": 22
        }
      ]
    },
    {
      "cell_type": "code",
      "metadata": {
        "colab": {
          "base_uri": "https://localhost:8080/"
        },
        "id": "Hccrr9YnKHDr",
        "outputId": "c2c5b349-4a02-46fa-85ff-23ab208aee79"
      },
      "source": [
        "# check shape of the dataframe\n",
        "edges_list.shape"
      ],
      "execution_count": null,
      "outputs": [
        {
          "output_type": "execute_result",
          "data": {
            "text/plain": [
              "(283, 3)"
            ]
          },
          "metadata": {
            "tags": []
          },
          "execution_count": 23
        }
      ]
    },
    {
      "cell_type": "markdown",
      "metadata": {
        "id": "uVzommVFKHDr"
      },
      "source": [
        "# 2.1 Graph creation (1 point)"
      ]
    },
    {
      "cell_type": "markdown",
      "metadata": {
        "id": "ceJHyIHjKHDr"
      },
      "source": [
        "**2.1.1 Create undirected and unweighted graph using the edges_list dataset and check the basic properties of the graph such as number of nodes, average node degree, etc. Leave the \"depth\" column for now.  (0.50 points)** <br>\n",
        "<font color='red'>How you should answer the following questions: In the `#TODO` cell you have to write the code representing your solution.</font>"
      ]
    },
    {
      "cell_type": "code",
      "metadata": {
        "id": "heIHWEXBKHDr"
      },
      "source": [
        "G = nx.from_pandas_edgelist(edges_list, source='source', target='target', edge_attr=None)"
      ],
      "execution_count": null,
      "outputs": []
    },
    {
      "cell_type": "code",
      "metadata": {
        "colab": {
          "base_uri": "https://localhost:8080/"
        },
        "id": "ttyozCMJKHDs",
        "outputId": "c11f405f-5119-44e4-d14a-67e5b7375783"
      },
      "source": [
        "# basic info of graph\n",
        "print(\"Graph has\", nx.number_of_nodes(G), \"nodes\")\n",
        "print(\"Graph has\", nx.number_of_edges(G), \"edges\")\n",
        "print(\"Graph degree is\", np.array([d for n, d in G.degree()]).sum()/nx.number_of_nodes(G))\n",
        "print(\"Graph average shortest path length is\", nx.average_shortest_path_length(G))\n",
        "print(\"Graph diameter is\", nx.diameter(G))\n",
        "print(\"Graph transitivity is\", nx.transitivity(G))\n",
        "print(\"Graph average clustering is\", nx.average_clustering(G))\n",
        "print(\"Graph edge density is\", nx.classes.function.density(G))\n",
        "print(\"Graph has\", np.array(list(nx.triangles(G).values())).sum(), \"total triangles\")\n",
        "print(\"Graph has\", nx.algorithms.components.number_connected_components(G), \"connected components\")"
      ],
      "execution_count": null,
      "outputs": [
        {
          "output_type": "stream",
          "text": [
            "Graph has 255 nodes\n",
            "Graph has 276 edges\n",
            "Graph degree is 2.164705882352941\n",
            "Graph average shortest path length is 3.536946117029489\n",
            "Graph diameter is 4\n",
            "Graph transitivity is 0.013416815742397137\n",
            "Graph average clustering is 0.012524571130926984\n",
            "Graph edge density is 0.008522464103751737\n",
            "Graph has 45 total triangles\n",
            "Graph has 1 connected components\n"
          ],
          "name": "stdout"
        }
      ]
    },
    {
      "cell_type": "markdown",
      "metadata": {
        "id": "aM95SbdiKHDs"
      },
      "source": [
        "**2.1.2 Plot the network graph (0.50 points)** <br>\n",
        "<font color='red'>In the `Your answer` cell write which type of graph (example line graph) it is and explain in one line about the type of graph in your own words. It does not have to be a full sentence.</font><br>\n",
        "<font color='red'>Write your observation in the `Your answer` cell.</font>"
      ]
    },
    {
      "cell_type": "code",
      "metadata": {
        "colab": {
          "base_uri": "https://localhost:8080/",
          "height": 751
        },
        "id": "cGWwwV2P0s7p",
        "outputId": "5830e399-e079-49b4-fff8-7f271fdf9ef5"
      },
      "source": [
        "plt.figure(3,figsize=(12,10))\n",
        "nx.draw(G, node_size = 40, alpha = 0.6, width = 0.7, with_labels=False)"
      ],
      "execution_count": null,
      "outputs": [
        {
          "output_type": "display_data",
          "data": {
            "image/png": "[encoded data removed]",
            "text/plain": [
              "<Figure size 864x720 with 1 Axes>"
            ]
          },
          "metadata": {
            "tags": []
          }
        }
      ]
    },
    {
      "cell_type": "markdown",
      "metadata": {
        "id": "M45RxMOqKHDs"
      },
      "source": [
        "**<font color='red'>Your answer:</font>** Looks like this is a Barabasi Albert graph with m0 =1. Such models have a small clustering coefficient, short path length and their degree distribution follows power-law. It comes as no surprise since they fit into explaining internet well."
      ]
    },
    {
      "cell_type": "markdown",
      "metadata": {
        "id": "e01440_fKHDt"
      },
      "source": [
        "# 2.2 Node2Vec Embeddings (6 points)"
      ]
    },
    {
      "cell_type": "markdown",
      "metadata": {
        "id": "n1GtZW3qKHDt"
      },
      "source": [
        "**2.2.1. For the Graph G, created in task 2.1.1, use  Node2Vec for creating embeddings, with parameters - number of dimensions as 32, walk length as 10 and total number of walks as 50 and workers as 1 (0.50 point).**\n",
        "\n",
        "<font color='red'>How you should answer the following questions. In the `#TODO` cell you have to write the code representing your solution. .</font>"
      ]
    },
    {
      "cell_type": "code",
      "metadata": {
        "id": "ZUSKZ-vIKHDt",
        "colab": {
          "base_uri": "https://localhost:8080/",
          "height": 81,
          "referenced_widgets": [
            "113635351fe3454f8b044de0cb108d4d",
            "2f789b0e1e3240ebadecfca9f03a13df",
            "2bcd57e8c71b44939d0d5f39098f2602",
            "ca63a681254e4d3986dc06cd31d21052",
            "a0900c4d3e1746b2bb1f01a92a9d83c0",
            "ed7b436293b842249350b6ce0ea2b552",
            "5381ca03714548cc912059d9a02cd907",
            "c6862109f0b64b6da76d7f370f9646c9"
          ]
        },
        "outputId": "582ba5c0-fe9f-45aa-c1cf-72a6b40990f4"
      },
      "source": [
        "# Precompute probabilities and generate walks**\n",
        "node2vec = Node2Vec(G, dimensions=32, walk_length=10, num_walks=50, workers = 1)"
      ],
      "execution_count": null,
      "outputs": [
        {
          "output_type": "display_data",
          "data": {
            "application/vnd.jupyter.widget-view+json": {
              "model_id": "113635351fe3454f8b044de0cb108d4d",
              "version_minor": 0,
              "version_major": 2
            },
            "text/plain": [
              "HBox(children=(FloatProgress(value=0.0, description='Computing transition probabilities', max=255.0, style=Pro…"
            ]
          },
          "metadata": {
            "tags": []
          }
        },
        {
          "output_type": "stream",
          "text": [
            "\rGenerating walks (CPU: 1):   0%|          | 0/50 [00:00<?, ?it/s]"
          ],
          "name": "stderr"
        },
        {
          "output_type": "stream",
          "text": [
            "\n"
          ],
          "name": "stdout"
        },
        {
          "output_type": "stream",
          "text": [
            "Generating walks (CPU: 1): 100%|██████████| 50/50 [00:08<00:00,  5.96it/s]\n"
          ],
          "name": "stderr"
        }
      ]
    },
    {
      "cell_type": "markdown",
      "metadata": {
        "id": "Q54avb9AKHDt"
      },
      "source": [
        "**2.2.2 For the Graph G, created in task 2.1.1, use  Node2Vec for creating embeddings, with parameters - p > 1 (anay value greater than 1) and q < 1 (anay value less than 1), number of dimensions as 32, walk length as 10 and total number of walks as 50 and workers as 1 (0.50 point).**\n",
        "\n",
        "<font color='red'>How you should answer the following questions. In the `#TODO` cell you have to write the code representing your solution. .</font>"
      ]
    },
    {
      "cell_type": "code",
      "metadata": {
        "id": "u7fW1PsnKHDu",
        "colab": {
          "base_uri": "https://localhost:8080/",
          "height": 81,
          "referenced_widgets": [
            "314adabc74d54819a4fc71302df88074",
            "a91739cdd7354b659e0b27cad6840699",
            "aa0456eec6fc444c8bfe3d8f463c9e0b",
            "327849b5dcb14bcfa7d2c04d357b5f11",
            "0eb0f3a61b3946339006e4d7b3cf651b",
            "f583907f940d4d48b443900b429f707d",
            "286ecef6d4ee4359adbbd8a062d6ef88",
            "05a9c301cf734895acf98272b654f795"
          ]
        },
        "outputId": "2ee940ba-32f7-4474-b1ef-faef5f48997d"
      },
      "source": [
        "node2vec_modified_pq = Node2Vec(G, dimensions=32, walk_length=10, num_walks=50, workers = 1, p = 10, q = 0.25)"
      ],
      "execution_count": null,
      "outputs": [
        {
          "output_type": "display_data",
          "data": {
            "application/vnd.jupyter.widget-view+json": {
              "model_id": "314adabc74d54819a4fc71302df88074",
              "version_minor": 0,
              "version_major": 2
            },
            "text/plain": [
              "HBox(children=(FloatProgress(value=0.0, description='Computing transition probabilities', max=255.0, style=Pro…"
            ]
          },
          "metadata": {
            "tags": []
          }
        },
        {
          "output_type": "stream",
          "text": [
            "Generating walks (CPU: 1):   4%|▍         | 2/50 [00:00<00:04, 10.74it/s]"
          ],
          "name": "stderr"
        },
        {
          "output_type": "stream",
          "text": [
            "\n"
          ],
          "name": "stdout"
        },
        {
          "output_type": "stream",
          "text": [
            "Generating walks (CPU: 1): 100%|██████████| 50/50 [00:08<00:00,  5.88it/s]\n"
          ],
          "name": "stderr"
        }
      ]
    },
    {
      "cell_type": "markdown",
      "metadata": {
        "id": "bd7dcucFKHDu"
      },
      "source": [
        "**2.2.3 For the Graph G, created in task 2.1.1, use  Node2Vec for creating embeddings, with parameters - p < 1 (anay value less than 1) and q > 1 (anay value greater than 1), number of dimensions as 32, walk length as 10 and total number of walks as 50 and workers as 1 (0.50 point).**\n",
        "\n",
        "<font color='red'>How you should answer the following questions. In the `#TODO` cell you have to write the code representing your solution. .</font>"
      ]
    },
    {
      "cell_type": "code",
      "metadata": {
        "id": "3MsOqAg2KHDu",
        "colab": {
          "base_uri": "https://localhost:8080/",
          "height": 81,
          "referenced_widgets": [
            "f0c0b43cc7d64b829b7a4baa1aa59782",
            "ef43a8eb94c044b7a39d518fa0dfc1cc",
            "36a05f1e549b4dce9faa3329b4baa8a8",
            "ad5f1082719e4f71bab1bedf2bcd7054",
            "23a50d8c6efd4a0cae4cc723a1fc32f2",
            "0abd48b748754c829bc49e509d913785",
            "973cc3509d9d45efa90088c421ab1b20",
            "315148a230b34164ab231efff8be2a4b"
          ]
        },
        "outputId": "35c9fc4b-5a97-47a4-fe52-d2e1f231d803"
      },
      "source": [
        "node2vec_modified_pq_again = Node2Vec(G, dimensions=32, walk_length=50, num_walks=20, workers = 1, p = 0.25, q = 10)"
      ],
      "execution_count": null,
      "outputs": [
        {
          "output_type": "display_data",
          "data": {
            "application/vnd.jupyter.widget-view+json": {
              "model_id": "f0c0b43cc7d64b829b7a4baa1aa59782",
              "version_minor": 0,
              "version_major": 2
            },
            "text/plain": [
              "HBox(children=(FloatProgress(value=0.0, description='Computing transition probabilities', max=255.0, style=Pro…"
            ]
          },
          "metadata": {
            "tags": []
          }
        },
        {
          "output_type": "stream",
          "text": [
            "\rGenerating walks (CPU: 1):   0%|          | 0/20 [00:00<?, ?it/s]"
          ],
          "name": "stderr"
        },
        {
          "output_type": "stream",
          "text": [
            "\n"
          ],
          "name": "stdout"
        },
        {
          "output_type": "stream",
          "text": [
            "Generating walks (CPU: 1): 100%|██████████| 20/20 [00:16<00:00,  1.19it/s]\n"
          ],
          "name": "stderr"
        }
      ]
    },
    {
      "cell_type": "markdown",
      "metadata": {
        "id": "iroXuBsTKHDu"
      },
      "source": [
        "**2.2.4 When Node2vec and DeepWalk is considered to be similar? Also, what must have happened in terms of the structure of the embeddings when \"p\" and \"q\" parameters of Node2Vec are changed just like you did in all the three cases mentioned above? (0.50 point)** <br>\n",
        "<font color='red'>Write your observation in the `Your answer` cell.</font>"
      ]
    },
    {
      "cell_type": "markdown",
      "metadata": {
        "id": "Z9aigz95KHDu"
      },
      "source": [
        "**<font color='red'>Your answer:</font>** Node2Vec and Deepwalk are similar if there is no parameters p and q used in Node2Vec, as then the probability to go randomly to next node (or back to where you just came from) is the same. Parameter \"p\" controls the probability to go back to the node where one just came from, parameter \"q\" controls the probability to go exploring undiscovered parts of the graph. When \"p\" is high, it means that the probability to go back to the visited node is really high, and when \"q\" is high, then the walking continues to undiscovered nodes.\n",
        "\n",
        "This means that in 2.2.2, when our p value is high and q is low, we will be exploring the micro-neighborhoods more and create the node embeddings according to that. In 2.2.3, we will be exploring macro-neighborhoods, so nodes that are far away from each other may have high embedding similarity."
      ]
    },
    {
      "cell_type": "markdown",
      "metadata": {
        "id": "ghIqrgEpKHDv"
      },
      "source": [
        "**2.2.5 Embed the nodes using \"fit\" function of Node2Vec created in 2.2.1. Keep the \"window_count\" paramater as 10 and \"min_count\" as 1. (0.50 point).**\n",
        "\n",
        "<font color='red'>How you should answer the following questions. First, in the `#TODO` cell you have to write the code representing your solution. .</font>"
      ]
    },
    {
      "cell_type": "code",
      "metadata": {
        "id": "3y2BivekKHDv"
      },
      "source": [
        "# Embed nodes\n",
        "model = node2vec.fit(window=10, min_count=1)"
      ],
      "execution_count": null,
      "outputs": []
    },
    {
      "cell_type": "markdown",
      "metadata": {
        "id": "h2ErZv73KHDv"
      },
      "source": [
        "**2.2.6 Get the node embedding of 'network science' node. (0.50 point).**\n",
        "\n",
        "<font color='red'>How you should answer the following questions. In the `#TODO` cell you have to write the code representing your solution. .</font>"
      ]
    },
    {
      "cell_type": "code",
      "metadata": {
        "id": "BLa6-KpPKHDv",
        "colab": {
          "base_uri": "https://localhost:8080/"
        },
        "outputId": "d635ec0e-736b-4124-92c4-be7a2302a21e"
      },
      "source": [
        "# Get the vector of node 'network science'\n",
        "model.wv.get_vector('network science') #the current way\n",
        "\n",
        "# or the more intuitive dictionary based way\n",
        "# model['network science']"
      ],
      "execution_count": null,
      "outputs": [
        {
          "output_type": "execute_result",
          "data": {
            "text/plain": [
              "array([ 0.38573766, -0.22229064, -0.08405595,  0.15671277, -0.24604909,\n",
              "       -0.03691706, -0.1599852 ,  0.5977866 , -0.01064547, -0.6850973 ,\n",
              "       -0.38410935, -0.2659978 ,  0.3529034 ,  0.04560275,  0.20285134,\n",
              "        0.13524461,  0.64052385,  0.17537549,  0.22426182,  0.00141747,\n",
              "       -0.36675054, -0.09077865, -0.29086295, -0.2457027 , -0.31101397,\n",
              "       -0.3454166 , -0.28388467, -0.08071749,  0.41275284,  0.01518169,\n",
              "       -0.4268977 , -0.4006842 ], dtype=float32)"
            ]
          },
          "metadata": {
            "tags": []
          },
          "execution_count": 31
        }
      ]
    },
    {
      "cell_type": "markdown",
      "metadata": {
        "id": "NG8S-AStKHDv"
      },
      "source": [
        "**2.2.7 Check which are the similar nodes with respect to 'network science' node. (0.50 point).**\n",
        "\n",
        "<font color='red'>How you should answer the following questions. In the `#TODO` cell you have to write the code representing your solution. .</font>"
      ]
    },
    {
      "cell_type": "code",
      "metadata": {
        "id": "HIu9jEeiKHDw",
        "colab": {
          "base_uri": "https://localhost:8080/"
        },
        "outputId": "5ca051c4-5d12-4844-f79a-6c93c337a9c3"
      },
      "source": [
        "# most similar nodes to node 'network science'\n",
        "for node, _ in model.most_similar('network science'):\n",
        "    print((node, _))"
      ],
      "execution_count": null,
      "outputs": [
        {
          "output_type": "stream",
          "text": [
            "('rumor spread in social network', 0.7538527250289917)\n",
            "('network formation', 0.697803795337677)\n",
            "('communicative ecology', 0.6688809394836426)\n",
            "('networks in labor economics', 0.6478724479675293)\n",
            "('non-linear preferential attachment', 0.6460323333740234)\n",
            "('network theory in risk assessment', 0.620253324508667)\n",
            "('immune network theory', 0.5827874541282654)\n",
            "('dual-phase evolution', 0.5736922025680542)\n",
            "('service network', 0.5576959848403931)\n",
            "('scale-free networks', 0.5477418899536133)\n"
          ],
          "name": "stdout"
        },
        {
          "output_type": "stream",
          "text": [
            "/usr/local/lib/python3.7/dist-packages/ipykernel_launcher.py:2: DeprecationWarning: Call to deprecated `most_similar` (Method will be removed in 4.0.0, use self.wv.most_similar() instead).\n",
            "  \n"
          ],
          "name": "stderr"
        }
      ]
    },
    {
      "cell_type": "markdown",
      "metadata": {
        "id": "LDmT5UNiKHDw"
      },
      "source": [
        "**2.2.8 According to you, which node(s) have given you the correct embedding (Hint: this can be verified by looking at the network graph). (0.75 point).**\n",
        "\n",
        "<font color='red'>How you should answer the following questions. First, in the `#TODO` cell you have to write the code representing your solution. .</font>\n",
        "<font color='red'>Write your observation in the `Your answer` cell.</font>**"
      ]
    },
    {
      "cell_type": "markdown",
      "metadata": {
        "id": "O-0FzxZPKHDw"
      },
      "source": [
        "**<font color='red'>Your answer:</font>** \n",
        "Answer is based on following results (last results will differ when we do Restart Kernel and Run All):\n",
        "* ('network theory in risk assessment', 0.7214217185974121)\n",
        "* ('rumor spread in social network', 0.7039720416069031)\n",
        "* ('immune network theory', 0.7001493573188782)\n",
        "* ('network formation', 0.6961420774459839)\n",
        "* ('non-linear preferential attachment', 0.6949734687805176)\n",
        "* ('networks in labor economics', 0.6913201808929443)\n",
        "* ('communicative ecology', 0.6845932006835938)\n",
        "* ('structural cut-off', 0.5677346587181091)\n",
        "* ('scale-free networks', 0.5660696625709534)\n",
        "* ('countability', 0.5579176545143127)\n",
        "\n",
        "We checked the network through https://densitydesign.github.io/strumentalia-seealsology/, and we can see that the most similar nodes returned by node2vec are close to our node 'network science' in the graph.\n",
        "\n",
        "We can safely say that higher-dimensional algebra should be coming after dual-phase evolution since the latter node is much closer to network science node in the visual. Network formation was given a quite low similarity score so that's a bit abnormal as well. Taking the website network as ground truth - 'structural cut-off' is further than 'scale-free network', yet smilarity is bigger, so that's incorrect. Also, 'countability' is really far from 'network science', so the embedding cannot be correct. \n",
        "\n",
        "In short - correct embeddings are everything except 'structural cut-off' and 'countability'."
      ]
    },
    {
      "cell_type": "markdown",
      "metadata": {
        "id": "TgG4aen7KHDw"
      },
      "source": [
        "**2.2.9 According to you, which node(s) have given you the incorrect embedding (Hint: this can be verified by looking at the network graph). (0.75 point).**\n",
        "\n",
        "<font color='red'>How you should answer the following questions. First, in the `#TODO` cell you have to write the code representing your solution. .</font>\n",
        "<font color='red'>Write your observation in the `Your answer` cell.</font>**"
      ]
    },
    {
      "cell_type": "markdown",
      "metadata": {
        "id": "AEC_Te_VKHDx"
      },
      "source": [
        "**<font color='red'>Your answer:</font>** Long answer in 2.2.8 - short: incorrect embeddings are for 'structural cut-off' and 'countability'."
      ]
    },
    {
      "cell_type": "markdown",
      "metadata": {
        "id": "oP5qDYYZKHDx"
      },
      "source": [
        "**2.2.10 Save the node embeddings (0.25 point).**\n",
        "\n",
        "<font color='red'>How you should answer the following questions. In the `#TODO` cell you have to write the code representing your solution. .</font>"
      ]
    },
    {
      "cell_type": "code",
      "metadata": {
        "id": "wm_THe_yKHDx"
      },
      "source": [
        "# save the node embeddings\n",
        "#TODO\n",
        "model.wv.save_word2vec_format('embedding.csv')\n",
        "model.save('model')"
      ],
      "execution_count": null,
      "outputs": []
    },
    {
      "cell_type": "markdown",
      "metadata": {
        "id": "vJTHVDBHKHDx"
      },
      "source": [
        "**2.2.11 Retrieve all the nodes' embeddings to be used in classification task (0.50 point).**\n",
        "\n",
        "<font color='red'>How you should answer the following questions. In the `#TODO` cell you have to write the code representing your solution. .</font>"
      ]
    },
    {
      "cell_type": "code",
      "metadata": {
        "id": "ldDDiaC1KHDy"
      },
      "source": [
        "# Retrieve node embeddings\n",
        "node_ids = model.wv.index2word   # list of node IDs\n",
        "node_embeddings = model.wv.vectors"
      ],
      "execution_count": null,
      "outputs": []
    },
    {
      "cell_type": "markdown",
      "metadata": {
        "id": "3brif3GEKHDy"
      },
      "source": [
        "**2.2.12 Can you apply node2vec on Dynamic Graphs (Dynamic Graphs are those graphs wherein either the nodes or edges change over time) (0.25 point).**\n",
        "\n",
        "<font color='red'>Write your answer in the `Your answer` cell.</font>"
      ]
    },
    {
      "cell_type": "markdown",
      "metadata": {
        "id": "u6jJnPs0KHDy"
      },
      "source": [
        "**<font color='red'>Your answer:</font>** No, Node2vec cannot be applied to Dynamic Graphs, since it's meant for static graphs. A dynamic embedding method, dynnode2vec, based on the node2vec exists, than can be applied to Dynamic Graphs.\n",
        "\n",
        "The stochastic grad descent will not work due to the permanent shifts in micro and macro neighborhoods. In this case you cannot optimize the embedding vectors since the your neighbors themselves change their positions all the time"
      ]
    },
    {
      "cell_type": "markdown",
      "metadata": {
        "id": "dyhUNZECKHDz"
      },
      "source": [
        "# 2.3. Classification (3 points)"
      ]
    },
    {
      "cell_type": "markdown",
      "metadata": {
        "id": "3EBznG3sKHDz"
      },
      "source": [
        "**2.3.1 Make a dataframe of two columns - \"Nodes\" and \"Labels\" and index is from 0 to length of the 'node_ids' retreived from 2.2.11. (0.50 point).**\n",
        "\n",
        "<font color='red'>How you should answer the following questions. In the `#TODO` cell you have to write the code representing your solution. .</font>"
      ]
    },
    {
      "cell_type": "code",
      "metadata": {
        "id": "gL_mgKJ_KHDz",
        "colab": {
          "base_uri": "https://localhost:8080/"
        },
        "outputId": "b4f560fc-c5a1-482f-bbcf-097d1f3c7900"
      },
      "source": [
        "df = pd.DataFrame(index =[i for i in range(len(node_ids))], columns = ['Nodes', 'Labels'])\n",
        "df.shape"
      ],
      "execution_count": null,
      "outputs": [
        {
          "output_type": "execute_result",
          "data": {
            "text/plain": [
              "(255, 2)"
            ]
          },
          "metadata": {
            "tags": []
          },
          "execution_count": 35
        }
      ]
    },
    {
      "cell_type": "markdown",
      "metadata": {
        "id": "7q8Y5ScNKHD1"
      },
      "source": [
        "**(This code is just for this problem in order to make the 'depth' column as ground-truth). To make a classification problem, this code will add all the nodes and the depth values (summed up for each node) in the \"df\" dataset. Here, we are interested in predicting the depth value for each node. You can ignore the working of this code for now. Just look at the generated dataframe rows and columns.**"
      ]
    },
    {
      "cell_type": "code",
      "metadata": {
        "id": "pB8W9M1PKHD2"
      },
      "source": [
        "# add depth values for same 'target' nodes\n",
        "for i in range(0, len(node_ids)):\n",
        "    indices = edges_list.index[edges_list.target == node_ids[i]].tolist()\n",
        "    depth_sum = sum(edges_list.loc[indices,'depth'])\n",
        "    df.loc[i]['Nodes'] = node_ids[i]\n",
        "    df.loc[i]['Labels'] = depth_sum"
      ],
      "execution_count": null,
      "outputs": []
    },
    {
      "cell_type": "code",
      "metadata": {
        "id": "aEfcs7_JKHD2",
        "colab": {
          "base_uri": "https://localhost:8080/",
          "height": 191
        },
        "outputId": "8817df06-758a-48a4-8e99-99cce35e3b80"
      },
      "source": [
        "df.head()"
      ],
      "execution_count": null,
      "outputs": [
        {
          "output_type": "execute_result",
          "data": {
            "text/html": [
              "<div>\n",
              "<style scoped>\n",
              "    .dataframe tbody tr th:only-of-type {\n",
              "        vertical-align: middle;\n",
              "    }\n",
              "\n",
              "    .dataframe tbody tr th {\n",
              "        vertical-align: top;\n",
              "    }\n",
              "\n",
              "    .dataframe thead th {\n",
              "        text-align: right;\n",
              "    }\n",
              "</style>\n",
              "<table border=\"1\" class=\"dataframe\">\n",
              "  <thead>\n",
              "    <tr style=\"text-align: right;\">\n",
              "      <th></th>\n",
              "      <th>Nodes</th>\n",
              "      <th>Labels</th>\n",
              "    </tr>\n",
              "  </thead>\n",
              "  <tbody>\n",
              "    <tr>\n",
              "      <th>0</th>\n",
              "      <td>systems theory</td>\n",
              "      <td>3</td>\n",
              "    </tr>\n",
              "    <tr>\n",
              "      <th>1</th>\n",
              "      <td>irregular warfare</td>\n",
              "      <td>1</td>\n",
              "    </tr>\n",
              "    <tr>\n",
              "      <th>2</th>\n",
              "      <td>network science</td>\n",
              "      <td>12</td>\n",
              "    </tr>\n",
              "    <tr>\n",
              "      <th>3</th>\n",
              "      <td>percolation</td>\n",
              "      <td>1</td>\n",
              "    </tr>\n",
              "    <tr>\n",
              "      <th>4</th>\n",
              "      <td>network management</td>\n",
              "      <td>1</td>\n",
              "    </tr>\n",
              "  </tbody>\n",
              "</table>\n",
              "</div>"
            ],
            "text/plain": [
              "                Nodes Labels\n",
              "0      systems theory      3\n",
              "1   irregular warfare      1\n",
              "2     network science     12\n",
              "3         percolation      1\n",
              "4  network management      1"
            ]
          },
          "metadata": {
            "tags": []
          },
          "execution_count": 37
        }
      ]
    },
    {
      "cell_type": "markdown",
      "metadata": {
        "id": "E-XfA62TKHD2"
      },
      "source": [
        "**2.3.2 Copy node embeddings into X and \"Labels\" column of \"df\" dataframe into y. (0.25 point).**\n",
        "\n",
        "<font color='red'>How you should answer the following questions. In the `#TODO` cell you have to write the code representing your solution. .</font>"
      ]
    },
    {
      "cell_type": "code",
      "metadata": {
        "id": "xV6UYA8nKHD2"
      },
      "source": [
        "X = node_embeddings\n",
        "y = df['Labels'].copy()"
      ],
      "execution_count": null,
      "outputs": []
    },
    {
      "cell_type": "code",
      "metadata": {
        "id": "tavdGK00KHD3"
      },
      "source": [
        "y=y.astype('int')"
      ],
      "execution_count": null,
      "outputs": []
    },
    {
      "cell_type": "markdown",
      "metadata": {
        "id": "qjlinZbwKHD3"
      },
      "source": [
        "**2.3.3 Split X and y into train and test split using \"train_test_split\" function. Keep the training set 80% and random state as 0. Print the shape of the X_train, X_test, y_train, y_test. (0.50 point).**\n",
        "\n",
        "<font color='red'>How you should answer the following questions. In the `#TODO` cell you have to write the code representing your solution. .</font>"
      ]
    },
    {
      "cell_type": "code",
      "metadata": {
        "id": "EWq7QP-aKHD3"
      },
      "source": [
        "X_train, X_test, y_train, y_test = train_test_split(X, y, test_size = 0.2)"
      ],
      "execution_count": null,
      "outputs": []
    },
    {
      "cell_type": "code",
      "metadata": {
        "id": "iTxYpXB6a1bV",
        "colab": {
          "base_uri": "https://localhost:8080/"
        },
        "outputId": "0c3910c2-b60a-490d-9f3c-a25b09fa83ac"
      },
      "source": [
        "print(X_train.shape, X_test.shape, y_train.shape, y_test.shape)"
      ],
      "execution_count": null,
      "outputs": [
        {
          "output_type": "stream",
          "text": [
            "(204, 32) (51, 32) (204,) (51,)\n"
          ],
          "name": "stdout"
        }
      ]
    },
    {
      "cell_type": "markdown",
      "metadata": {
        "id": "bzdHc2cDKHD3"
      },
      "source": [
        "**2.3.4 Perform Standardization on the X_train and X_test. (0.25 point).**\n",
        "\n",
        "Reference: https://scikit-learn.org/stable/modules/generated/sklearn.preprocessing.StandardScaler.html<br>\n",
        "<font color='red'>How you should answer the following questions. In the `#TODO` cell you have to write the code representing your solution. .</font>"
      ]
    },
    {
      "cell_type": "code",
      "metadata": {
        "id": "wMIQOA3wKHD3"
      },
      "source": [
        "feature_scaler = StandardScaler()\n",
        "X_train = feature_scaler.fit_transform(X_train)\n",
        "X_test = feature_scaler.transform(X_test)"
      ],
      "execution_count": null,
      "outputs": []
    },
    {
      "cell_type": "markdown",
      "metadata": {
        "id": "M1QtPk-TKHD4"
      },
      "source": [
        "**2.3.5. Initialize and train the Support Vector Model on the train data. Choose any kernel of your choice and any value of the random state. (0.50 point).**\n",
        "\n",
        "<font color='red'>How you should answer the following questions. In the `#TODO` cell you have to write the code representing your solution. .</font>"
      ]
    },
    {
      "cell_type": "code",
      "metadata": {
        "id": "zzEiJQNOKHD4",
        "colab": {
          "base_uri": "https://localhost:8080/"
        },
        "outputId": "0bb66031-672a-4102-d145-8f80f031b92e"
      },
      "source": [
        "classifier = SVC()\n",
        "classifier.fit(X_train, y_train)"
      ],
      "execution_count": null,
      "outputs": [
        {
          "output_type": "execute_result",
          "data": {
            "text/plain": [
              "SVC(C=1.0, break_ties=False, cache_size=200, class_weight=None, coef0=0.0,\n",
              "    decision_function_shape='ovr', degree=3, gamma='scale', kernel='rbf',\n",
              "    max_iter=-1, probability=False, random_state=None, shrinking=True,\n",
              "    tol=0.001, verbose=False)"
            ]
          },
          "metadata": {
            "tags": []
          },
          "execution_count": 43
        }
      ]
    },
    {
      "cell_type": "markdown",
      "metadata": {
        "id": "Xp8C-80yKHD4"
      },
      "source": [
        "**2.3.6 Predict the \"depth\" values on the test data and print the classification report. (0.50 point).**\n",
        "\n",
        "<font color='red'>How you should answer the following questions. In the `#TODO` cell you have to write the code representing your solution. .</font>"
      ]
    },
    {
      "cell_type": "code",
      "metadata": {
        "id": "7eR2FITwKHD4",
        "colab": {
          "base_uri": "https://localhost:8080/"
        },
        "outputId": "378ec69a-9331-445c-8b16-550a70fd817d"
      },
      "source": [
        "y_pred = classifier.predict(X_test)\n",
        "print(classification_report(y_test, y_pred))"
      ],
      "execution_count": null,
      "outputs": [
        {
          "output_type": "stream",
          "text": [
            "              precision    recall  f1-score   support\n",
            "\n",
            "           1       0.50      0.25      0.33         4\n",
            "           2       0.90      1.00      0.95        44\n",
            "           3       0.00      0.00      0.00         1\n",
            "           4       0.00      0.00      0.00         1\n",
            "           5       0.00      0.00      0.00         1\n",
            "\n",
            "    accuracy                           0.88        51\n",
            "   macro avg       0.28      0.25      0.26        51\n",
            "weighted avg       0.81      0.88      0.84        51\n",
            "\n"
          ],
          "name": "stdout"
        },
        {
          "output_type": "stream",
          "text": [
            "/usr/local/lib/python3.7/dist-packages/sklearn/metrics/_classification.py:1272: UndefinedMetricWarning: Precision and F-score are ill-defined and being set to 0.0 in labels with no predicted samples. Use `zero_division` parameter to control this behavior.\n",
            "  _warn_prf(average, modifier, msg_start, len(result))\n"
          ],
          "name": "stderr"
        }
      ]
    },
    {
      "cell_type": "markdown",
      "metadata": {
        "id": "I3LEwcNSKHD5"
      },
      "source": [
        "**2.3.7 Can you explain in your words how node embeddings are useful in tasks such as prediction, clustering? (0.50 point).**\n",
        "\n",
        "<font color='red'>Write your answer in the `Your answer` cell.</font>"
      ]
    },
    {
      "cell_type": "markdown",
      "metadata": {
        "id": "liP0KbXzKHD5"
      },
      "source": [
        "**<font color='red'>Your answer:</font>** Since nodes belonging to the same cluster will have high similarity value between their embeddings, we can use node embeddings to compare nodes and put the ones with high embedding similarity in the same cluster. For a predictive task, we can use algebraic operations between different node embeddings and try to predict the link between the nodes according to the results of those operations. Surely there's a connection between node linkages and the node embedding differences/products/sums etc. We can find the linkages that we don't know yet by comparing the difference/sum/product between their embeddings."
      ]
    },
    {
      "cell_type": "markdown",
      "metadata": {
        "id": "5l4snnIvKHD5"
      },
      "source": [
        "## How long did it take you to solve the homework?\n",
        "\n",
        "* Please answer as precisely as you can. It does not affect your points or grade in any way. It is okay, if it took 0.5 hours or 24 hours. The collected information will be used to improve future homeworks. Please change X into your estimate.\n",
        "\n",
        "<font color='red'> **Answer:**</font> 25 hours - combined from two contributors\n",
        "\n",
        "## What is the level of difficulty for this homework?\n",
        "Please put a number between $0:10$ ($0:$ easy, $10:$ difficult)\n",
        "\n",
        "<font color='red'> **Answer:**</font> 6"
      ]
    }
  ]
}